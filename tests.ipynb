{
 "cells": [
  {
   "cell_type": "code",
   "execution_count": 6,
   "metadata": {},
   "outputs": [],
   "source": [
    "import pandas as pd\n",
    "import numpy as np\n",
    "import re\n",
    "import os"
   ]
  },
  {
   "cell_type": "code",
   "execution_count": 7,
   "metadata": {},
   "outputs": [],
   "source": [
    "def sumdf(df, project):\n",
    "    \n",
    "    df = df[df != -1].sum()\n",
    "\n",
    "    df = pd.DataFrame(df).T\n",
    "\n",
    "    df.index = [project]\n",
    "    df.columns = list(np.arange(1, len(df.columns)+1))\n",
    "    \n",
    "    return df\n",
    "\n",
    "def iqrdf(df, project):\n",
    "    q1 = df[df!=-1].quantile(0.25)\n",
    "    q3 = df[df!=-1].quantile(0.75)\n",
    "    iqr = q3 - q1\n",
    "\n",
    "    df = pd.DataFrame(iqr).T\n",
    "\n",
    "    df.index = [project]\n",
    "    df.columns = list(np.arange(1, len(df.columns)+1))\n",
    "    \n",
    "    return df"
   ]
  },
  {
   "cell_type": "code",
   "execution_count": 8,
   "metadata": {},
   "outputs": [],
   "source": [
    "for metric in ['loc', 'noc', 'tryCatchQty', 'logStatementsQty']:\n",
    "\n",
    "    all = []\n",
    "    for project in os.listdir('./data/'):\n",
    "\n",
    "        try:\n",
    "            df = pd.read_csv(f'./data/{project}/{metric}.csv', header=None)\n",
    "            df.set_index(0, inplace=True)\n",
    "        except:\n",
    "            continue\n",
    "\n",
    "        df = df.query('~index.str.lower().str.contains(\"test\")')\n",
    "\n",
    "        df = sumdf(df, project)\n",
    "        \n",
    "        all.append(df)\n",
    "        \n",
    "    new = pd.concat(all, axis=0)\n",
    "    new.to_csv(f'./metrics/{metric}.csv', index=True)"
   ]
  },
  {
   "cell_type": "code",
   "execution_count": null,
   "metadata": {},
   "outputs": [],
   "source": [
    "for metric in ['dit', 'fanin', 'fanout']:\n",
    " \n",
    "    all = []\n",
    "    for project in os.listdir('./data/'): \n",
    "        \n",
    "        try:\n",
    "            df = pd.read_csv(f'./data/{project}/{metric}.csv', header=None)\n",
    "        except:\n",
    "            continue   \n",
    "        df.set_index(0, inplace=True)\n",
    "\n",
    "        df = df.query('~index.str.lower().str.contains(\"test\")')\n",
    "        df = iqrdf(df, project)\n",
    "        \n",
    "        all.append(df)\n",
    "        \n",
    "    new = pd.concat(all, axis=0)\n",
    "    new.to_csv(f'./metrics/{metric}.csv', index=True)"
   ]
  }
 ],
 "metadata": {
  "kernelspec": {
   "display_name": ".env",
   "language": "python",
   "name": "python3"
  },
  "language_info": {
   "codemirror_mode": {
    "name": "ipython",
    "version": 3
   },
   "file_extension": ".py",
   "mimetype": "text/x-python",
   "name": "python",
   "nbconvert_exporter": "python",
   "pygments_lexer": "ipython3",
   "version": "3.9.6"
  }
 },
 "nbformat": 4,
 "nbformat_minor": 2
}
