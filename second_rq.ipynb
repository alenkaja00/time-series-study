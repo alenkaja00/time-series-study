{
 "cells": [
  {
   "cell_type": "code",
   "execution_count": 1,
   "metadata": {},
   "outputs": [],
   "source": [
    "import pandas as pd\n",
    "import json"
   ]
  },
  {
   "cell_type": "code",
   "execution_count": 2,
   "metadata": {},
   "outputs": [],
   "source": [
    "with open('./groups/systems_list.json') as json_file:\n",
    "    systems = json.load(json_file)\n",
    "\n",
    "project_names = list(systems.keys())"
   ]
  },
  {
   "cell_type": "code",
   "execution_count": 3,
   "metadata": {},
   "outputs": [],
   "source": [
    "df = pd.read_csv('./groups/categories.csv')"
   ]
  },
  {
   "cell_type": "code",
   "execution_count": 4,
   "metadata": {},
   "outputs": [
    {
     "data": {
      "text/plain": [
       "{'App': ['K9 Mail', 'Jitsi'],\n",
       " 'Database': ['Alluxio', 'Druid', 'Realm Java', 'OrientDB', 'Neo4j', 'Kafka'],\n",
       " 'NLP  (Machine learning)': ['Antlr4', 'CoreNLP', 'LanguageTool'],\n",
       " 'IDE / Development tool ': ['Arduino',\n",
       "  'Bazel',\n",
       "  'Buck',\n",
       "  'Dbeaver',\n",
       "  'Eclipse JTD Core',\n",
       "  'J2ObjC'],\n",
       " 'Desktop Application ': ['bisq',\n",
       "  'eclipse pde ui',\n",
       "  'PMD',\n",
       "  'Pinpoint',\n",
       "  'Pentaho Platform',\n",
       "  'Pentaho Kettle',\n",
       "  'OpenRefine',\n",
       "  'graylog',\n",
       "  'jabref',\n",
       "  'Lucene',\n",
       "  'jmeter'],\n",
       " 'Web Framework ': ['Dropwizard',\n",
       "  'Tomcat',\n",
       "  'Spring Security',\n",
       "  'Spring Framework',\n",
       "  'Spring Boot',\n",
       "  'FrameworkBenchmarks',\n",
       "  'Netty',\n",
       "  'tutorials',\n",
       "  'Cas'],\n",
       " 'Library': ['RxJava',\n",
       "  'Elasticsearch',\n",
       "  'Equinox Framework',\n",
       "  'Guava',\n",
       "  'MinecraftForge',\n",
       "  'JUnit 5'],\n",
       " 'CI/CD': ['GoCD', 'hibernate', 'jenkins']}"
      ]
     },
     "execution_count": 4,
     "metadata": {},
     "output_type": "execute_result"
    }
   ],
   "source": [
    "categories = {}\n",
    "\n",
    "for column in df.columns:\n",
    "    categories[column] = list(df[column].dropna().unique())\n",
    "\n",
    "categories"
   ]
  },
  {
   "cell_type": "code",
   "execution_count": 5,
   "metadata": {},
   "outputs": [
    {
     "name": "stdout",
     "output_type": "stream",
     "text": [
      "{'App': 4.35, 'Database': 13.04, 'NLP  (Machine learning)': 6.52, 'IDE / Development tool ': 13.04, 'Desktop Application ': 23.91, 'Web Framework ': 19.57, 'Library': 13.04, 'CI/CD': 6.52}\n"
     ]
    }
   ],
   "source": [
    "percentages = {}\n",
    "\n",
    "for key, value in categories.items():\n",
    "    percentage = round((len(value) / 46) * 100, 2)\n",
    "    percentages[key] = percentage\n",
    "\n",
    "print(percentages)\n"
   ]
  }
 ],
 "metadata": {
  "kernelspec": {
   "display_name": "local-venv",
   "language": "python",
   "name": "local-venv"
  },
  "language_info": {
   "codemirror_mode": {
    "name": "ipython",
    "version": 3
   },
   "file_extension": ".py",
   "mimetype": "text/x-python",
   "name": "python",
   "nbconvert_exporter": "python",
   "pygments_lexer": "ipython3",
   "version": "3.9.15"
  }
 },
 "nbformat": 4,
 "nbformat_minor": 2
}
