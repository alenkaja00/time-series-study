{
 "cells": [
  {
   "cell_type": "markdown",
   "metadata": {},
   "source": [
    "**RQ2: CREATE DATASETS FOR LOC, FANIN, LOOSE AND TIGHT CLASS COHESION (OR OTHER METRICS) FOR THE IDENTIFIED CATEGORIES**"
   ]
  },
  {
   "cell_type": "code",
   "execution_count": null,
   "metadata": {},
   "outputs": [],
   "source": [
    "import pandas as pd\n",
    "import json"
   ]
  },
  {
   "cell_type": "code",
   "execution_count": null,
   "metadata": {},
   "outputs": [],
   "source": [
    "# Read in the systems list\n",
    "with open('./groups/systems_list.json') as json_file:\n",
    "    systems = json.load(json_file)\n",
    "\n",
    "project_names = [x.lower() for x in list(systems.keys())]\n",
    "\n",
    "# read in the categories\n",
    "df = pd.read_csv('./groups/categories.csv')\n",
    "df = df.applymap(lambda x: x.lower() if isinstance(x, str) else x)\n",
    "df"
   ]
  },
  {
   "cell_type": "code",
   "execution_count": null,
   "metadata": {},
   "outputs": [],
   "source": [
    "# Create a dictionary of the categories, calculate the percentage of projects that have that category\n",
    "categories = {}\n",
    "for column in df.columns:\n",
    "    categories[column] = list(df[column].dropna().unique())\n",
    "\n",
    "percentages = {}\n",
    "for key, value in categories.items():\n",
    "    percentage = round((len(value) / 46) * 100, 2)\n",
    "    percentages[key] = percentage\n",
    "print(percentages)"
   ]
  },
  {
   "cell_type": "markdown",
   "metadata": {},
   "source": [
    "*Load Fede's metrics and adjust the index names*"
   ]
  },
  {
   "cell_type": "code",
   "execution_count": null,
   "metadata": {},
   "outputs": [],
   "source": [
    "loc_metric = pd.read_csv('./metrics/loc.csv', index_col=0)\n",
    "fanin_metric = pd.read_csv('./metrics/fanin.csv', index_col=0)\n",
    "\n",
    "# missing othe metrics to analyze"
   ]
  },
  {
   "cell_type": "code",
   "execution_count": null,
   "metadata": {},
   "outputs": [],
   "source": [
    "# function to rename the columns\n",
    "from difflib import SequenceMatcher\n",
    "\n",
    "def string_similarity(s1, s2):\n",
    "    matcher = SequenceMatcher(None, s1, s2)\n",
    "    similarity_ratio = matcher.ratio()\n",
    "    return similarity_ratio"
   ]
  },
  {
   "cell_type": "code",
   "execution_count": null,
   "metadata": {},
   "outputs": [],
   "source": [
    "# rename the columns until no difference between the project names and the metric index names\n",
    "for elem in project_names:\n",
    "    for elem2 in loc_metric.index.values:\n",
    "        similarity = string_similarity(elem.upper(), elem2.upper())\n",
    "        if (similarity > 0.8):\n",
    "            loc_metric = loc_metric.rename(index={elem2: elem})\n",
    "    for elem3 in fanin_metric.index.values:\n",
    "        similarity = string_similarity(elem.upper(), elem3.upper())\n",
    "        if (similarity > 0.8):\n",
    "            fanin_metric = fanin_metric.rename(index={elem3: elem})\n",
    "        \n",
    "loc_metric = loc_metric.rename(index={'graylog2-server': 'graylog', 'k-9': 'k-9 mail', 'hibernate orm': 'hibernate'})\n",
    "fanin_metric = fanin_metric.rename(index={'graylog2-server': 'graylog', 'k-9': 'k-9 mail', 'hibernate orm': 'hibernate'})"
   ]
  },
  {
   "cell_type": "markdown",
   "metadata": {},
   "source": [
    "*separate LOC metric for each group*"
   ]
  },
  {
   "cell_type": "code",
   "execution_count": null,
   "metadata": {},
   "outputs": [],
   "source": [
    "# separate metrics for each group\n",
    "app_projects = df['App'].dropna().unique()\n",
    "app_loc_metric = loc_metric.loc[app_projects]\n",
    "app_loc_metric.to_csv('./groups/loc/app_loc.csv')\n",
    "\n",
    "database_projects = df['Database'].dropna().unique()\n",
    "database_loc_metric = loc_metric.loc[database_projects]\n",
    "database_loc_metric.to_csv('./groups/loc/database_loc.csv')\n",
    "\n",
    "nlp_projects = df['NLP (Machine Learning)'].dropna().unique()\n",
    "nlp_loc_metric = loc_metric.loc[nlp_projects]\n",
    "nlp_loc_metric.to_csv('./groups/loc/nlp_loc.csv')\n",
    "\n",
    "ide_projects = df['IDE / Development tool'].dropna().unique()\n",
    "ide_loc_metric = loc_metric.loc[ide_projects]\n",
    "ide_loc_metric.to_csv('./groups/loc/ide_loc.csv')\n",
    "\n",
    "desk_projects = df['Desktop Application'].dropna().unique()\n",
    "desk_loc_metric = loc_metric.loc[desk_projects]\n",
    "desk_loc_metric.to_csv('./groups/loc/desk_loc.csv')\n",
    "\n",
    "web_projects = df['Web Framework'].dropna().unique()\n",
    "web_loc_metric = loc_metric.loc[web_projects]\n",
    "web_loc_metric.to_csv('./groups/loc/web_loc.csv')\n",
    "\n",
    "lib_projects = df['Library'].dropna().unique()\n",
    "lib_loc_metric = loc_metric.loc[lib_projects]\n",
    "lib_loc_metric.to_csv('./groups/loc/lib_loc.csv')\n",
    "\n",
    "cicd_projects = df['CI/CD'].dropna().unique()\n",
    "cicd_loc_metric = loc_metric.loc[cicd_projects]\n",
    "cicd_loc_metric.to_csv('./groups/loc/cicd_loc.csv')"
   ]
  },
  {
   "cell_type": "markdown",
   "metadata": {},
   "source": [
    "*separate FANIN metric for each group*"
   ]
  },
  {
   "cell_type": "code",
   "execution_count": null,
   "metadata": {},
   "outputs": [],
   "source": [
    "# separate metrics for each group\n",
    "app_projects = df['App'].dropna().unique()\n",
    "app_fanin_metric = fanin_metric.loc[app_projects]\n",
    "app_fanin_metric.to_csv('./groups/fanin/app_fanin.csv')\n",
    "\n",
    "database_projects = df['Database'].dropna().unique()\n",
    "database_fanin_metric = fanin_metric.loc[database_projects]\n",
    "database_fanin_metric.to_csv('./groups/fanin/database_fanin.csv')\n",
    "\n",
    "nlp_projects = df['NLP (Machine Learning)'].dropna().unique()\n",
    "nlp_fanin_metric = fanin_metric.loc[nlp_projects]\n",
    "nlp_fanin_metric.to_csv('./groups/fanin/nlp_fanin.csv')\n",
    "\n",
    "ide_projects = df['IDE / Development tool'].dropna().unique()\n",
    "ide_fanin_metric = fanin_metric.loc[ide_projects]\n",
    "ide_fanin_metric.to_csv('./groups/fanin/ide_fanin.csv')\n",
    "\n",
    "desk_projects = df['Desktop Application'].dropna().unique()\n",
    "desk_fanin_metric = fanin_metric.loc[desk_projects]\n",
    "desk_fanin_metric.to_csv('./groups/fanin/desk_fanin.csv')\n",
    "\n",
    "web_projects = df['Web Framework'].dropna().unique()\n",
    "web_fanin_metric = fanin_metric.loc[web_projects]\n",
    "web_fanin_metric.to_csv('./groups/fanin/web_fanin.csv')\n",
    "\n",
    "lib_projects = df['Library'].dropna().unique()\n",
    "lib_fanin_metric = fanin_metric.loc[lib_projects]\n",
    "lib_fanin_metric.to_csv('./groups/fanin/lib_fanin.csv')\n",
    "\n",
    "cicd_projects = df['CI/CD'].dropna().unique()\n",
    "cicd_fanin_metric = fanin_metric.loc[cicd_projects]\n",
    "cicd_fanin_metric.to_csv('./groups/fanin/cicd_fanin.csv')"
   ]
  },
  {
   "cell_type": "markdown",
   "metadata": {},
   "source": [
    "**DESCRIPTIVE STATISTICAL TESTS**"
   ]
  }
 ],
 "metadata": {
  "kernelspec": {
   "display_name": "local-venv",
   "language": "python",
   "name": "local-venv"
  },
  "language_info": {
   "codemirror_mode": {
    "name": "ipython",
    "version": 3
   },
   "file_extension": ".py",
   "mimetype": "text/x-python",
   "name": "python",
   "nbconvert_exporter": "python",
   "pygments_lexer": "ipython3",
   "version": "3.9.15"
  }
 },
 "nbformat": 4,
 "nbformat_minor": 2
}
