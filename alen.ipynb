{
 "cells": [
  {
   "cell_type": "code",
   "execution_count": 1,
   "metadata": {},
   "outputs": [
    {
     "name": "stdout",
     "output_type": "stream",
     "text": [
      "Requirement already satisfied: PyGithub in c:\\users\\alenk\\miniconda3\\envs\\tf\\lib\\site-packages (2.1.1)\n",
      "Requirement already satisfied: python-dateutil in c:\\users\\alenk\\miniconda3\\envs\\tf\\lib\\site-packages (from PyGithub) (2.8.2)\n",
      "Requirement already satisfied: pynacl>=1.4.0 in c:\\users\\alenk\\miniconda3\\envs\\tf\\lib\\site-packages (from PyGithub) (1.5.0)\n",
      "Requirement already satisfied: Deprecated in c:\\users\\alenk\\miniconda3\\envs\\tf\\lib\\site-packages (from PyGithub) (1.2.14)\n",
      "Requirement already satisfied: pyjwt[crypto]>=2.4.0 in c:\\users\\alenk\\miniconda3\\envs\\tf\\lib\\site-packages (from PyGithub) (2.4.0)\n",
      "Requirement already satisfied: requests>=2.14.0 in c:\\users\\alenk\\miniconda3\\envs\\tf\\lib\\site-packages (from PyGithub) (2.28.1)\n",
      "Requirement already satisfied: urllib3>=1.26.0 in c:\\users\\alenk\\miniconda3\\envs\\tf\\lib\\site-packages (from PyGithub) (1.26.12)\n",
      "Requirement already satisfied: typing-extensions>=4.0.0 in c:\\users\\alenk\\miniconda3\\envs\\tf\\lib\\site-packages (from PyGithub) (4.3.0)\n",
      "Requirement already satisfied: cryptography>=3.3.1 in c:\\users\\alenk\\miniconda3\\envs\\tf\\lib\\site-packages (from pyjwt[crypto]>=2.4.0->PyGithub) (38.0.1)\n",
      "Requirement already satisfied: cffi>=1.4.1 in c:\\users\\alenk\\miniconda3\\envs\\tf\\lib\\site-packages (from pynacl>=1.4.0->PyGithub) (1.15.1)\n",
      "Requirement already satisfied: idna<4,>=2.5 in c:\\users\\alenk\\miniconda3\\envs\\tf\\lib\\site-packages (from requests>=2.14.0->PyGithub) (3.4)\n",
      "Requirement already satisfied: charset-normalizer<3,>=2 in c:\\users\\alenk\\miniconda3\\envs\\tf\\lib\\site-packages (from requests>=2.14.0->PyGithub) (2.0.4)\n",
      "Requirement already satisfied: certifi>=2017.4.17 in c:\\users\\alenk\\miniconda3\\envs\\tf\\lib\\site-packages (from requests>=2.14.0->PyGithub) (2022.9.24)\n",
      "Requirement already satisfied: wrapt<2,>=1.10 in c:\\users\\alenk\\miniconda3\\envs\\tf\\lib\\site-packages (from Deprecated->PyGithub) (1.14.1)\n",
      "Requirement already satisfied: six>=1.5 in c:\\users\\alenk\\miniconda3\\envs\\tf\\lib\\site-packages (from python-dateutil->PyGithub) (1.16.0)\n",
      "Requirement already satisfied: pycparser in c:\\users\\alenk\\miniconda3\\envs\\tf\\lib\\site-packages (from cffi>=1.4.1->pynacl>=1.4.0->PyGithub) (2.21)\n"
     ]
    }
   ],
   "source": [
    "!pip install PyGithub"
   ]
  },
  {
   "cell_type": "code",
   "execution_count": 3,
   "metadata": {},
   "outputs": [],
   "source": [
    "import json\n",
    "from github import Github\n",
    "from github import Auth"
   ]
  },
  {
   "cell_type": "code",
   "execution_count": 8,
   "metadata": {},
   "outputs": [
    {
     "name": "stdout",
     "output_type": "stream",
     "text": [
      "An error occurred: [Errno 22] Invalid argument: 'C:\\\\Users\\\\alenk\\\\Desktop\\\\TU_e\\\\\"2_Empirical Methods in SE\"\\\\token.txt'\n"
     ]
    }
   ],
   "source": [
    "file_path = 'C:\\\\Users\\\\alenk\\\\Desktop\\\\TU_e\\\\2_Empirical Methods in SE\\\\token.txt'\n",
    "\n",
    "try:\n",
    "    with open(file_path, 'r') as file:\n",
    "        content = file.read()\n",
    "        # Now 'content' variable holds the content of the file\n",
    "        print(content)\n",
    "except FileNotFoundError:\n",
    "    print(f\"File not found at the specified location: {file_path}\")\n",
    "except Exception as e:\n",
    "    print(f\"An error occurred: {e}\")"
   ]
  },
  {
   "cell_type": "code",
   "execution_count": null,
   "metadata": {},
   "outputs": [],
   "source": [
    "auth = Auth.Token(token)\n",
    "g = Github(auth=auth)\n",
    "g.get_user().login"
   ]
  },
  {
   "cell_type": "code",
   "execution_count": null,
   "metadata": {},
   "outputs": [],
   "source": [
    "# defined the dictionary of the systems to be analyzed\n",
    "with open('./groups/systems_list.json') as json_file:\n",
    "    systems = json.load(json_file)"
   ]
  },
  {
   "cell_type": "code",
   "execution_count": null,
   "metadata": {},
   "outputs": [],
   "source": [
    "# a dictionary with number_nameofthesystem or owner as key and the repository name as value\\n\n",
    "repos_dict = {}\n",
    "\n",
    "for i in range(len(systems)):\n",
    "    values = systems.get(list(systems.keys())[i]).split('/')\n",
    "    values[0] = str(i)+\"_\"+str(values[0])\n",
    "    repos_dict[values[0]] = values[1]"
   ]
  },
  {
   "cell_type": "code",
   "execution_count": null,
   "metadata": {},
   "outputs": [],
   "source": [
    "repos_dict"
   ]
  },
  {
   "cell_type": "code",
   "execution_count": null,
   "metadata": {},
   "outputs": [],
   "source": [
    "headers = {\n",
    "    \"Accept\": \"application/vnd.github+json\",\n",
    "    \"Authorization\": f\"Bearer {login.token}\",\n",
    "}"
   ]
  },
  {
   "cell_type": "code",
   "execution_count": null,
   "metadata": {},
   "outputs": [],
   "source": [
    "import requests\n",
    "\n",
    "# get the topics(tags) of each repository from the url\n",
    "topics = {}\n",
    "\n",
    "for key, value in repos_dict.items():\n",
    "    keys = key.split('_')[1]\n",
    "    url = f\"https://api.github.com/repos/{keys}/{value}/topics\"\n",
    "    response = requests.get(url, headers=headers)\n",
    "\n",
    "    if response.status_code == 200:\n",
    "        topics[key] = response.json().values()\n",
    "    else:\n",
    "        print(f\"Error: {response.status_code}\")\n",
    "        print(url)"
   ]
  },
  {
   "cell_type": "code",
   "execution_count": null,
   "metadata": {},
   "outputs": [],
   "source": [
    "topics"
   ]
  },
  {
   "cell_type": "code",
   "execution_count": null,
   "metadata": {},
   "outputs": [],
   "source": [
    "print(\"found topics for {} repos out of {} initial systems\".format(len(topics), len(repos_dict)))"
   ]
  },
  {
   "cell_type": "markdown",
   "metadata": {},
   "source": [
    "Get the most frequent tags"
   ]
  },
  {
   "cell_type": "code",
   "execution_count": null,
   "metadata": {},
   "outputs": [],
   "source": [
    "flat_list = []\n",
    "\n",
    "for key, value in topics.items():\n",
    "    flat_list.extend(value)\n",
    "\n",
    "flattened_list = [element for sublist in flat_list for element in sublist]"
   ]
  },
  {
   "cell_type": "code",
   "execution_count": null,
   "metadata": {},
   "outputs": [],
   "source": [
    "from collections import Counter\n",
    "\n",
    "def top_frequent_elements(lst, num):\n",
    "    counter = Counter(lst)\n",
    "    most_common = counter.most_common(num)\n",
    "    return most_common\n",
    "    #top_elements = [item[0] for item in most_common]\n",
    "    #return top_elements"
   ]
  },
  {
   "cell_type": "code",
   "execution_count": null,
   "metadata": {},
   "outputs": [],
   "source": [
    "frequency_rank = 15\n",
    "result = top_frequent_elements(flattened_list, frequency_rank)\n",
    "result"
   ]
  },
  {
   "cell_type": "markdown",
   "metadata": {},
   "source": [
    "Clustering of text from the dictionary of projects:tags"
   ]
  },
  {
   "cell_type": "code",
   "execution_count": null,
   "metadata": {},
   "outputs": [],
   "source": [
    "import numpy as np\n",
    "from sklearn.feature_extraction.text import TfidfVectorizer\n",
    "from sklearn.cluster import KMeans\n",
    "from sklearn.decomposition import TruncatedSVD\n",
    "import matplotlib.pyplot as plt"
   ]
  },
  {
   "cell_type": "code",
   "execution_count": null,
   "metadata": {},
   "outputs": [],
   "source": [
    "class DictValuesIterable:\n",
    "    def __init__(self, input_dict):\n",
    "        self.input_dict = input_dict\n",
    "        self.keys = list(input_dict.keys())\n",
    "        self.index = 0\n",
    "\n",
    "    def __iter__(self):\n",
    "        return self\n",
    "\n",
    "    def __next__(self):\n",
    "        if self.index < len(self.keys):\n",
    "            key = self.keys[self.index]\n",
    "            value = self.input_dict[key]\n",
    "            self.index += 1\n",
    "            return str(value)\n",
    "        else:\n",
    "            raise StopIteration"
   ]
  },
  {
   "cell_type": "code",
   "execution_count": null,
   "metadata": {},
   "outputs": [],
   "source": [
    "raw_documents_iterable = DictValuesIterable(topics)"
   ]
  },
  {
   "cell_type": "code",
   "execution_count": null,
   "metadata": {},
   "outputs": [],
   "source": [
    "tfidf_vectorizer = TfidfVectorizer(max_df=0.5, max_features=1000, stop_words='english')\n",
    "tfidf_matrix = tfidf_vectorizer.fit_transform(raw_documents_iterable)"
   ]
  },
  {
   "cell_type": "code",
   "execution_count": null,
   "metadata": {},
   "outputs": [],
   "source": [
    "lsa = TruncatedSVD(n_components=2)\n",
    "lsa_matrix = lsa.fit_transform(tfidf_matrix)"
   ]
  },
  {
   "cell_type": "code",
   "execution_count": null,
   "metadata": {},
   "outputs": [],
   "source": [
    "k = 10\n",
    "kmeans = KMeans(n_clusters=k, random_state=42)\n",
    "kmeans.fit(lsa_matrix)"
   ]
  },
  {
   "cell_type": "code",
   "execution_count": null,
   "metadata": {},
   "outputs": [],
   "source": [
    "labels = kmeans.labels_\n",
    "cluster_centers = kmeans.cluster_centers_\n",
    "\n",
    "plt.figure(figsize=(10, 8))\n",
    "plt.scatter(lsa_matrix[:, 0], lsa_matrix[:, 1], c=labels, cmap='viridis')\n",
    "plt.scatter(cluster_centers[:, 0], cluster_centers[:, 1,], s=200, c='red')\n",
    "plt.title(\"Text Clustering with K-Means\")\n",
    "plt.show()"
   ]
  }
 ],
 "metadata": {
  "kernelspec": {
   "display_name": "local-venv",
   "language": "python",
   "name": "local-venv"
  },
  "language_info": {
   "codemirror_mode": {
    "name": "ipython",
    "version": 3
   },
   "file_extension": ".py",
   "mimetype": "text/x-python",
   "name": "python",
   "nbconvert_exporter": "python",
   "pygments_lexer": "ipython3",
   "version": "3.9.15"
  }
 },
 "nbformat": 4,
 "nbformat_minor": 2
}
