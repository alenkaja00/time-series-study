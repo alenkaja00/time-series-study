{
 "cells": [
  {
   "cell_type": "code",
   "execution_count": 50,
   "metadata": {},
   "outputs": [
    {
     "name": "stdout",
     "output_type": "stream",
     "text": [
      "Requirement already satisfied: PyGithub in c:\\users\\alenk\\miniconda3\\envs\\tf\\lib\\site-packages (2.1.1)\n",
      "Requirement already satisfied: typing-extensions>=4.0.0 in c:\\users\\alenk\\miniconda3\\envs\\tf\\lib\\site-packages (from PyGithub) (4.3.0)\n",
      "Requirement already satisfied: python-dateutil in c:\\users\\alenk\\miniconda3\\envs\\tf\\lib\\site-packages (from PyGithub) (2.8.2)\n",
      "Requirement already satisfied: Deprecated in c:\\users\\alenk\\miniconda3\\envs\\tf\\lib\\site-packages (from PyGithub) (1.2.14)\n",
      "Requirement already satisfied: urllib3>=1.26.0 in c:\\users\\alenk\\miniconda3\\envs\\tf\\lib\\site-packages (from PyGithub) (1.26.12)\n",
      "Requirement already satisfied: pynacl>=1.4.0 in c:\\users\\alenk\\miniconda3\\envs\\tf\\lib\\site-packages (from PyGithub) (1.5.0)\n",
      "Requirement already satisfied: requests>=2.14.0 in c:\\users\\alenk\\miniconda3\\envs\\tf\\lib\\site-packages (from PyGithub) (2.28.1)\n",
      "Requirement already satisfied: pyjwt[crypto]>=2.4.0 in c:\\users\\alenk\\miniconda3\\envs\\tf\\lib\\site-packages (from PyGithub) (2.4.0)\n",
      "Requirement already satisfied: cryptography>=3.3.1 in c:\\users\\alenk\\miniconda3\\envs\\tf\\lib\\site-packages (from pyjwt[crypto]>=2.4.0->PyGithub) (38.0.1)\n",
      "Requirement already satisfied: cffi>=1.4.1 in c:\\users\\alenk\\miniconda3\\envs\\tf\\lib\\site-packages (from pynacl>=1.4.0->PyGithub) (1.15.1)\n",
      "Requirement already satisfied: charset-normalizer<3,>=2 in c:\\users\\alenk\\miniconda3\\envs\\tf\\lib\\site-packages (from requests>=2.14.0->PyGithub) (2.0.4)\n",
      "Requirement already satisfied: idna<4,>=2.5 in c:\\users\\alenk\\miniconda3\\envs\\tf\\lib\\site-packages (from requests>=2.14.0->PyGithub) (3.4)\n",
      "Requirement already satisfied: certifi>=2017.4.17 in c:\\users\\alenk\\miniconda3\\envs\\tf\\lib\\site-packages (from requests>=2.14.0->PyGithub) (2022.9.24)\n",
      "Requirement already satisfied: wrapt<2,>=1.10 in c:\\users\\alenk\\miniconda3\\envs\\tf\\lib\\site-packages (from Deprecated->PyGithub) (1.14.1)\n",
      "Requirement already satisfied: six>=1.5 in c:\\users\\alenk\\miniconda3\\envs\\tf\\lib\\site-packages (from python-dateutil->PyGithub) (1.16.0)\n",
      "Requirement already satisfied: pycparser in c:\\users\\alenk\\miniconda3\\envs\\tf\\lib\\site-packages (from cffi>=1.4.1->pynacl>=1.4.0->PyGithub) (2.21)\n"
     ]
    }
   ],
   "source": [
    "!pip install PyGithub"
   ]
  },
  {
   "cell_type": "code",
   "execution_count": 51,
   "metadata": {},
   "outputs": [],
   "source": [
    "from github import Github\n",
    "from github import Auth\n",
    "\n",
    "from login import login #create a login.py where to store your token"
   ]
  },
  {
   "cell_type": "code",
   "execution_count": 52,
   "metadata": {},
   "outputs": [
    {
     "data": {
      "text/plain": [
       "'alenkaja00'"
      ]
     },
     "execution_count": 52,
     "metadata": {},
     "output_type": "execute_result"
    }
   ],
   "source": [
    "auth = Auth.Token(login.token)\n",
    "g = Github(auth=auth)\n",
    "g.get_user().login"
   ]
  },
  {
   "cell_type": "code",
   "execution_count": 53,
   "metadata": {},
   "outputs": [],
   "source": [
    "systems = {\n",
    "    'Alluxio': 'Alluxio/alluxio',\n",
    "    'Antlr4': 'antlr/antlr4',\n",
    "    'Arduino': 'arduino/Arduino',\n",
    "    'Bazel': 'bazelbuild/bazel',\n",
    "    'Bisq': 'bisq-network/bisq',\n",
    "    'Buck': 'facebook/buck',\n",
    "    'CAS': 'apereo/cas',\n",
    "    'CoreNLP': 'stanfordnlp/CoreNLP',\n",
    "    'Dbeaver': 'dbeaver/dbeaver',\n",
    "    'Dropwizard': 'dropwizard/dropwizard',\n",
    "    'Druid': 'alibaba/druid',\n",
    "    'Eclipse JDT Core': 'eclipse/eclipse.jdt.core',\n",
    "    'Eclipse PDE UI ': 'eclipse/eclipse.pde.ui',\n",
    "    'Elasticsearch ':'elastic/elasticsearch',\n",
    "    'Equinox Framework': 'eclipse/rt.equinox.framework',\n",
    "    'FrameworkBenchmarks': 'TechEmpower/FrameworkBenchmarks',\n",
    "    'Gocd': 'gocd/gocd',\n",
    "    'Graylog': 'Graylog2/graylog2-server',\n",
    "    'Guava': 'google/guava',\n",
    "    'Hibernate Orm': 'hibernate/hibernate-orm',\n",
    "    'J2ObjC': 'google/j2objc',\n",
    "    'Jabref': 'JabRef/jabref',\n",
    "    'Jenkins': 'jenkinsci/jenkins',\n",
    "    'Jitsi': 'jitsi/jitsi',\n",
    "    'JMeter': 'apache/jmeter',\n",
    "    'JUnit 5': 'junit-team/junit5',\n",
    "    'K-9 Mail': 'k9mail/k-9',\n",
    "    'Kafka': 'apache/kafka',\n",
    "    'LanguageTool': 'languagetool-org/languagetool',\n",
    "    'Lucene': 'apache/lucene-solr',\n",
    "    'MinecraftForge': 'MinecraftForge/MinecraftForge',\n",
    "    'Neo4j': 'neo4j/neo4j',\n",
    "    'Netty': 'netty/netty',\n",
    "    'OpenRefine': 'OpenRefine/OpenRefine',\n",
    "    'OrientDB': 'orientechnologies/orientdb',\n",
    "    'Pentaho Kettle': 'pentaho/pentaho-kettle',\n",
    "    'Pentaho Platform': 'pentaho/pentaho-platform',\n",
    "    'Pinpoint': 'pinpoint-apm/pinpoint',\n",
    "    'PMD': 'pmd/pmd',\n",
    "    'Realm Java': 'realm/realm-java',\n",
    "    'RxJava': 'ReactiveX/RxJava',\n",
    "    'Spring Boot': 'spring-projects/spring-boot',\n",
    "    'Spring Framework': 'spring-projects/spring-framework',\n",
    "    'Spring Security': 'spring-projects/spring-security',\n",
    "    'Tomcat': 'apache/tomcat',\n",
    "    'Tutorials': 'eugenp/tutorials'\n",
    "}"
   ]
  },
  {
   "cell_type": "code",
   "execution_count": 78,
   "metadata": {},
   "outputs": [],
   "source": [
    "repos_dict = {}\n",
    "\n",
    "for i in range(len(systems)):\n",
    "    values = systems.get(list(systems.keys())[i]).split('/')\n",
    "    values[0] = str(i)+\"_\"+str(values[0])\n",
    "    repos_dict[values[0]] = values[1]"
   ]
  },
  {
   "cell_type": "code",
   "execution_count": 79,
   "metadata": {},
   "outputs": [
    {
     "data": {
      "text/plain": [
       "{'0_Alluxio': 'alluxio',\n",
       " '1_antlr': 'antlr4',\n",
       " '2_arduino': 'Arduino',\n",
       " '3_bazelbuild': 'bazel',\n",
       " '4_bisq-network': 'bisq',\n",
       " '5_facebook': 'buck',\n",
       " '6_apereo': 'cas',\n",
       " '7_stanfordnlp': 'CoreNLP',\n",
       " '8_dbeaver': 'dbeaver',\n",
       " '9_dropwizard': 'dropwizard',\n",
       " '10_alibaba': 'druid',\n",
       " '11_eclipse': 'eclipse.jdt.core',\n",
       " '12_eclipse': 'eclipse.pde.ui',\n",
       " '13_elastic': 'elasticsearch',\n",
       " '14_eclipse': 'rt.equinox.framework',\n",
       " '15_TechEmpower': 'FrameworkBenchmarks',\n",
       " '16_gocd': 'gocd',\n",
       " '17_Graylog2': 'graylog2-server',\n",
       " '18_google': 'guava',\n",
       " '19_hibernate': 'hibernate-orm',\n",
       " '20_google': 'j2objc',\n",
       " '21_JabRef': 'jabref',\n",
       " '22_jenkinsci': 'jenkins',\n",
       " '23_jitsi': 'jitsi',\n",
       " '24_apache': 'jmeter',\n",
       " '25_junit-team': 'junit5',\n",
       " '26_k9mail': 'k-9',\n",
       " '27_apache': 'kafka',\n",
       " '28_languagetool-org': 'languagetool',\n",
       " '29_apache': 'lucene-solr',\n",
       " '30_MinecraftForge': 'MinecraftForge',\n",
       " '31_neo4j': 'neo4j',\n",
       " '32_netty': 'netty',\n",
       " '33_OpenRefine': 'OpenRefine',\n",
       " '34_orientechnologies': 'orientdb',\n",
       " '35_pentaho': 'pentaho-kettle',\n",
       " '36_pentaho': 'pentaho-platform',\n",
       " '37_pinpoint-apm': 'pinpoint',\n",
       " '38_pmd': 'pmd',\n",
       " '39_realm': 'realm-java',\n",
       " '40_ReactiveX': 'RxJava',\n",
       " '41_spring-projects': 'spring-boot',\n",
       " '42_spring-projects': 'spring-framework',\n",
       " '43_spring-projects': 'spring-security',\n",
       " '44_apache': 'tomcat',\n",
       " '45_eugenp': 'tutorials'}"
      ]
     },
     "execution_count": 79,
     "metadata": {},
     "output_type": "execute_result"
    }
   ],
   "source": [
    "repos_dict"
   ]
  },
  {
   "cell_type": "code",
   "execution_count": 80,
   "metadata": {},
   "outputs": [],
   "source": [
    "headers = {\n",
    "    \"Accept\": \"application/vnd.github+json\",\n",
    "    \"Authorization\": f\"Bearer {login.token}\",\n",
    "}"
   ]
  },
  {
   "cell_type": "code",
   "execution_count": 81,
   "metadata": {},
   "outputs": [
    {
     "name": "stdout",
     "output_type": "stream",
     "text": [
      "Error: 404\n",
      "https://api.github.com/repos/eclipse/eclipse.jdt.core/topics\n",
      "Error: 404\n",
      "https://api.github.com/repos/eclipse/eclipse.pde.ui/topics\n",
      "Error: 404\n",
      "https://api.github.com/repos/eclipse/rt.equinox.framework/topics\n"
     ]
    }
   ],
   "source": [
    "import requests\n",
    "\n",
    "topics = {}\n",
    "\n",
    "for key, value in repos_dict.items():\n",
    "    keys = key.split('_')[1]\n",
    "    url = f\"https://api.github.com/repos/{keys}/{value}/topics\"\n",
    "    response = requests.get(url, headers=headers)\n",
    "\n",
    "    if response.status_code == 200:\n",
    "        topics[key] = response.json().values()\n",
    "    else:\n",
    "        print(f\"Error: {response.status_code}\")\n",
    "        print(url)"
   ]
  },
  {
   "cell_type": "code",
   "execution_count": 82,
   "metadata": {},
   "outputs": [
    {
     "data": {
      "text/plain": [
       "{'0_Alluxio': dict_values([['alluxio', 'memory-speed', 'hadoop', 'spark', 'presto', 'tensorflow', 'data-analysis', 'data-orchestration', 'virtual-distributed-filesystem']]),\n",
       " '1_antlr': dict_values([['parsing', 'parser-generator', 'antlr', 'antlr4', 'java', 'grammar', 'python', 'parse', 'language-recognition', 'javascript', 'csharp', 'swift', 'cpp', 'golang', 'php', 'dart']]),\n",
       " '2_arduino': dict_values([['arduino', 'ide']]),\n",
       " '3_bazelbuild': dict_values([['bazel', 'build', 'test', 'fast', 'correct', 'scalable', 'multi-language', 'build-system']]),\n",
       " '4_bisq-network': dict_values([['bisq', 'p2p', 'bitcoin', 'exchange', 'java']]),\n",
       " '5_facebook': dict_values([['build-tool', 'java', 'python', 'android', 'ios', 'buck']]),\n",
       " '6_apereo': dict_values([['sso-authentication', 'authentication', 'authorization', 'java', 'websso', 'saml2', 'oauth2', 'openidconnect', 'ldap-authentication', 'spring-boot', 'spring-webflow', 'spring-cloud', 'spring-framework', 'identity-provider', 'u2f-server', 'duosecurity', 'sso', 'open-source', 'aws', 'mfa']]),\n",
       " '7_stanfordnlp': dict_values([['natural-language-processing', 'nlp', 'nlp-parsing', 'named-entity-recognition', 'stanford-nlp']]),\n",
       " '8_dbeaver': dict_values([['sql', 'database', 'dbeaver', 'gui', 'mysql', 'postgresql', 'db2', 'sqlite', 'erd', 'java', 'oracle', 'nosql', 'sqlserver', 'redshift', 'tycho']]),\n",
       " '9_dropwizard': dict_values([['dropwizard', 'java', 'web-framework', 'rest', 'hibernate', 'jersey2', 'jetty', 'jax-rs', 'jdbi', 'jersey-framework', 'restful-webservices']]),\n",
       " '10_alibaba': dict_values([[]]),\n",
       " '13_elastic': dict_values([['elasticsearch', 'java', 'search-engine']]),\n",
       " '15_TechEmpower': dict_values([['frameworkbenchmarks', 'benchmark', 'suite', 'framework', 'performance']]),\n",
       " '16_gocd': dict_values([['ci', 'cd', 'gocd', 'ci-cd', 'continuous-integration', 'continuous-delivery-server', 'continuous-delivery', 'infrastructure-as-code', 'continuous-deployment', 'continuous-testing']]),\n",
       " '17_Graylog2': dict_values([['log-analysis', 'log-collector', 'log-viewer', 'logging', 'logging-server', 'siem', 'secure-logging', 'security', 'gelf', 'syslog', 'graylog', 'kafka', 'amqp', 'log-management', 'hacktoberfest']]),\n",
       " '18_google': dict_values([['guava', 'java']]),\n",
       " '19_hibernate': dict_values([['hibernate', 'java', 'orm', 'jpa', 'jdbc', 'database', 'gradle', 'unitofwork', 'envers', 'java8', 'java8-times']]),\n",
       " '20_google': dict_values([[]]),\n",
       " '21_JabRef': dict_values([['jabref', 'bibtex', 'java', 'latex', 'biblatex', 'bibliography', 'academia', 'reference-manager', 'research-tool', 'academic-publications', 'javafx-application', 'javafx-desktop-apps', 'javafx', 'hacktoberfest', 'javafx-gui']]),\n",
       " '22_jenkinsci': dict_values([['continuous-integration', 'continuous-delivery', 'continuous-deployment', 'java', 'groovy', 'jenkins', 'pipelines-as-code', 'devops', 'cicd', 'hacktoberfest']]),\n",
       " '23_jitsi': dict_values([['jitsi', 'icq', 'jabber', 'java', 'xmpp', 'instant-messaging', 'xmpp-client', 'audio', 'video', 'irc', 'sip', 'chat']]),\n",
       " '24_apache': dict_values([['java', 'performance', 'test']]),\n",
       " '25_junit-team': dict_values([['java', 'test-framework', 'junit', 'junit-vintage', 'junit-jupiter', 'junit-platform', 'kotlin', 'kotlin-testing']]),\n",
       " '26_k9mail': dict_values([['android', 'email', 'communication']]),\n",
       " '27_apache': dict_values([['scala', 'kafka']]),\n",
       " '28_languagetool-org': dict_values([['grammar', 'natural-language', 'natural-language-processing', 'style-checker', 'proofreading', 'spellcheck']]),\n",
       " '29_apache': dict_values([['lucene', 'solr', 'search', 'nosql', 'java', 'backend', 'search-engine', 'information-retrieval']]),\n",
       " '30_MinecraftForge': dict_values([['java', 'forge', 'minecraft', 'mod']]),\n",
       " '31_neo4j': dict_values([['cypher', 'graphdb', 'database', 'nosql', 'graph', 'graph-database', 'neo4j']]),\n",
       " '32_netty': dict_values([[]]),\n",
       " '33_OpenRefine': dict_values([['datacleansing', 'data-analysis', 'java', 'opendata', 'wikidata', 'journalism', 'data-science', 'datajournalism', 'datacleaning', 'datamining', 'reconciliation', 'data-wrangling']]),\n",
       " '34_orientechnologies': dict_values([['orientdb', 'graph-database', 'document-database', 'dbms', 'nosql', 'graph-store', 'multi-master', 'multi-model-dbms', 'database', 'performance', 'fast', 'sql']]),\n",
       " '35_pentaho': dict_values([[]]),\n",
       " '36_pentaho': dict_values([[]]),\n",
       " '37_pinpoint-apm': dict_values([['apm', 'monitoring', 'performance', 'agent', 'distributed-tracing', 'tracing']]),\n",
       " '38_pmd': dict_values([['code-analysis', 'code-quality', 'static-analysis', 'static-code-analysis', 'linter', 'java', 'apex', 'plsql', 'swift']]),\n",
       " '39_realm': dict_values([['java', 'android', 'database', 'mobile', 'realtime-database', 'mobile-database', 'nosql-database']]),\n",
       " '40_ReactiveX': dict_values([['java', 'rxjava', 'flow', 'reactive-streams']]),\n",
       " '41_spring-projects': dict_values([['java', 'spring-boot', 'spring', 'framework']]),\n",
       " '42_spring-projects': dict_values([['framework', 'spring', 'spring-framework']]),\n",
       " '43_spring-projects': dict_values([['java', 'security', 'spring', 'spring-framework', 'framework']]),\n",
       " '44_apache': dict_values([['javaee', 'http', 'java', 'network-server', 'tomcat']]),\n",
       " '45_eugenp': dict_values([[]])}"
      ]
     },
     "execution_count": 82,
     "metadata": {},
     "output_type": "execute_result"
    }
   ],
   "source": [
    "topics"
   ]
  },
  {
   "cell_type": "code",
   "execution_count": 99,
   "metadata": {},
   "outputs": [
    {
     "name": "stdout",
     "output_type": "stream",
     "text": [
      "found topics for 43 repos out of 46 initial systems\n"
     ]
    }
   ],
   "source": [
    "print(\"found topics for {} repos out of {} initial systems\".format(len(topics), len(repos_dict)))"
   ]
  },
  {
   "cell_type": "markdown",
   "metadata": {},
   "source": [
    "Get the most frequent tags"
   ]
  },
  {
   "cell_type": "code",
   "execution_count": 117,
   "metadata": {},
   "outputs": [],
   "source": [
    "flat_list = []\n",
    "\n",
    "for key, value in topics.items():\n",
    "    flat_list.extend(value)"
   ]
  },
  {
   "cell_type": "code",
   "execution_count": 118,
   "metadata": {},
   "outputs": [
    {
     "data": {
      "text/plain": [
       "[['alluxio',\n",
       "  'memory-speed',\n",
       "  'hadoop',\n",
       "  'spark',\n",
       "  'presto',\n",
       "  'tensorflow',\n",
       "  'data-analysis',\n",
       "  'data-orchestration',\n",
       "  'virtual-distributed-filesystem'],\n",
       " ['parsing',\n",
       "  'parser-generator',\n",
       "  'antlr',\n",
       "  'antlr4',\n",
       "  'java',\n",
       "  'grammar',\n",
       "  'python',\n",
       "  'parse',\n",
       "  'language-recognition',\n",
       "  'javascript',\n",
       "  'csharp',\n",
       "  'swift',\n",
       "  'cpp',\n",
       "  'golang',\n",
       "  'php',\n",
       "  'dart'],\n",
       " ['arduino', 'ide'],\n",
       " ['bazel',\n",
       "  'build',\n",
       "  'test',\n",
       "  'fast',\n",
       "  'correct',\n",
       "  'scalable',\n",
       "  'multi-language',\n",
       "  'build-system'],\n",
       " ['bisq', 'p2p', 'bitcoin', 'exchange', 'java'],\n",
       " ['build-tool', 'java', 'python', 'android', 'ios', 'buck'],\n",
       " ['sso-authentication',\n",
       "  'authentication',\n",
       "  'authorization',\n",
       "  'java',\n",
       "  'websso',\n",
       "  'saml2',\n",
       "  'oauth2',\n",
       "  'openidconnect',\n",
       "  'ldap-authentication',\n",
       "  'spring-boot',\n",
       "  'spring-webflow',\n",
       "  'spring-cloud',\n",
       "  'spring-framework',\n",
       "  'identity-provider',\n",
       "  'u2f-server',\n",
       "  'duosecurity',\n",
       "  'sso',\n",
       "  'open-source',\n",
       "  'aws',\n",
       "  'mfa'],\n",
       " ['natural-language-processing',\n",
       "  'nlp',\n",
       "  'nlp-parsing',\n",
       "  'named-entity-recognition',\n",
       "  'stanford-nlp'],\n",
       " ['sql',\n",
       "  'database',\n",
       "  'dbeaver',\n",
       "  'gui',\n",
       "  'mysql',\n",
       "  'postgresql',\n",
       "  'db2',\n",
       "  'sqlite',\n",
       "  'erd',\n",
       "  'java',\n",
       "  'oracle',\n",
       "  'nosql',\n",
       "  'sqlserver',\n",
       "  'redshift',\n",
       "  'tycho'],\n",
       " ['dropwizard',\n",
       "  'java',\n",
       "  'web-framework',\n",
       "  'rest',\n",
       "  'hibernate',\n",
       "  'jersey2',\n",
       "  'jetty',\n",
       "  'jax-rs',\n",
       "  'jdbi',\n",
       "  'jersey-framework',\n",
       "  'restful-webservices'],\n",
       " [],\n",
       " ['elasticsearch', 'java', 'search-engine'],\n",
       " ['frameworkbenchmarks', 'benchmark', 'suite', 'framework', 'performance'],\n",
       " ['ci',\n",
       "  'cd',\n",
       "  'gocd',\n",
       "  'ci-cd',\n",
       "  'continuous-integration',\n",
       "  'continuous-delivery-server',\n",
       "  'continuous-delivery',\n",
       "  'infrastructure-as-code',\n",
       "  'continuous-deployment',\n",
       "  'continuous-testing'],\n",
       " ['log-analysis',\n",
       "  'log-collector',\n",
       "  'log-viewer',\n",
       "  'logging',\n",
       "  'logging-server',\n",
       "  'siem',\n",
       "  'secure-logging',\n",
       "  'security',\n",
       "  'gelf',\n",
       "  'syslog',\n",
       "  'graylog',\n",
       "  'kafka',\n",
       "  'amqp',\n",
       "  'log-management',\n",
       "  'hacktoberfest'],\n",
       " ['guava', 'java'],\n",
       " ['hibernate',\n",
       "  'java',\n",
       "  'orm',\n",
       "  'jpa',\n",
       "  'jdbc',\n",
       "  'database',\n",
       "  'gradle',\n",
       "  'unitofwork',\n",
       "  'envers',\n",
       "  'java8',\n",
       "  'java8-times'],\n",
       " [],\n",
       " ['jabref',\n",
       "  'bibtex',\n",
       "  'java',\n",
       "  'latex',\n",
       "  'biblatex',\n",
       "  'bibliography',\n",
       "  'academia',\n",
       "  'reference-manager',\n",
       "  'research-tool',\n",
       "  'academic-publications',\n",
       "  'javafx-application',\n",
       "  'javafx-desktop-apps',\n",
       "  'javafx',\n",
       "  'hacktoberfest',\n",
       "  'javafx-gui'],\n",
       " ['continuous-integration',\n",
       "  'continuous-delivery',\n",
       "  'continuous-deployment',\n",
       "  'java',\n",
       "  'groovy',\n",
       "  'jenkins',\n",
       "  'pipelines-as-code',\n",
       "  'devops',\n",
       "  'cicd',\n",
       "  'hacktoberfest'],\n",
       " ['jitsi',\n",
       "  'icq',\n",
       "  'jabber',\n",
       "  'java',\n",
       "  'xmpp',\n",
       "  'instant-messaging',\n",
       "  'xmpp-client',\n",
       "  'audio',\n",
       "  'video',\n",
       "  'irc',\n",
       "  'sip',\n",
       "  'chat'],\n",
       " ['java', 'performance', 'test'],\n",
       " ['java',\n",
       "  'test-framework',\n",
       "  'junit',\n",
       "  'junit-vintage',\n",
       "  'junit-jupiter',\n",
       "  'junit-platform',\n",
       "  'kotlin',\n",
       "  'kotlin-testing'],\n",
       " ['android', 'email', 'communication'],\n",
       " ['scala', 'kafka'],\n",
       " ['grammar',\n",
       "  'natural-language',\n",
       "  'natural-language-processing',\n",
       "  'style-checker',\n",
       "  'proofreading',\n",
       "  'spellcheck'],\n",
       " ['lucene',\n",
       "  'solr',\n",
       "  'search',\n",
       "  'nosql',\n",
       "  'java',\n",
       "  'backend',\n",
       "  'search-engine',\n",
       "  'information-retrieval'],\n",
       " ['java', 'forge', 'minecraft', 'mod'],\n",
       " ['cypher',\n",
       "  'graphdb',\n",
       "  'database',\n",
       "  'nosql',\n",
       "  'graph',\n",
       "  'graph-database',\n",
       "  'neo4j'],\n",
       " [],\n",
       " ['datacleansing',\n",
       "  'data-analysis',\n",
       "  'java',\n",
       "  'opendata',\n",
       "  'wikidata',\n",
       "  'journalism',\n",
       "  'data-science',\n",
       "  'datajournalism',\n",
       "  'datacleaning',\n",
       "  'datamining',\n",
       "  'reconciliation',\n",
       "  'data-wrangling'],\n",
       " ['orientdb',\n",
       "  'graph-database',\n",
       "  'document-database',\n",
       "  'dbms',\n",
       "  'nosql',\n",
       "  'graph-store',\n",
       "  'multi-master',\n",
       "  'multi-model-dbms',\n",
       "  'database',\n",
       "  'performance',\n",
       "  'fast',\n",
       "  'sql'],\n",
       " [],\n",
       " [],\n",
       " ['apm',\n",
       "  'monitoring',\n",
       "  'performance',\n",
       "  'agent',\n",
       "  'distributed-tracing',\n",
       "  'tracing'],\n",
       " ['code-analysis',\n",
       "  'code-quality',\n",
       "  'static-analysis',\n",
       "  'static-code-analysis',\n",
       "  'linter',\n",
       "  'java',\n",
       "  'apex',\n",
       "  'plsql',\n",
       "  'swift'],\n",
       " ['java',\n",
       "  'android',\n",
       "  'database',\n",
       "  'mobile',\n",
       "  'realtime-database',\n",
       "  'mobile-database',\n",
       "  'nosql-database'],\n",
       " ['java', 'rxjava', 'flow', 'reactive-streams'],\n",
       " ['java', 'spring-boot', 'spring', 'framework'],\n",
       " ['framework', 'spring', 'spring-framework'],\n",
       " ['java', 'security', 'spring', 'spring-framework', 'framework'],\n",
       " ['javaee', 'http', 'java', 'network-server', 'tomcat'],\n",
       " []]"
      ]
     },
     "execution_count": 118,
     "metadata": {},
     "output_type": "execute_result"
    }
   ],
   "source": [
    "flat_list"
   ]
  },
  {
   "cell_type": "markdown",
   "metadata": {},
   "source": [
    "Clustering of text from the dictionary of projects:tags"
   ]
  },
  {
   "cell_type": "code",
   "execution_count": 90,
   "metadata": {},
   "outputs": [],
   "source": [
    "import numpy as np\n",
    "from sklearn.feature_extraction.text import TfidfVectorizer\n",
    "from sklearn.cluster import KMeans\n",
    "from sklearn.decomposition import TruncatedSVD\n",
    "import matplotlib.pyplot as plt"
   ]
  },
  {
   "cell_type": "code",
   "execution_count": 93,
   "metadata": {},
   "outputs": [],
   "source": [
    "class DictValuesIterable:\n",
    "    def __init__(self, input_dict):\n",
    "        self.input_dict = input_dict\n",
    "        self.keys = list(input_dict.keys())\n",
    "        self.index = 0\n",
    "\n",
    "    def __iter__(self):\n",
    "        return self\n",
    "\n",
    "    def __next__(self):\n",
    "        if self.index < len(self.keys):\n",
    "            key = self.keys[self.index]\n",
    "            value = self.input_dict[key]\n",
    "            self.index += 1\n",
    "            return str(value)\n",
    "        else:\n",
    "            raise StopIteration"
   ]
  },
  {
   "cell_type": "code",
   "execution_count": 94,
   "metadata": {},
   "outputs": [],
   "source": [
    "raw_documents_iterable = DictValuesIterable(topics)"
   ]
  },
  {
   "cell_type": "code",
   "execution_count": 95,
   "metadata": {},
   "outputs": [],
   "source": [
    "tfidf_vectorizer = TfidfVectorizer(max_df=0.5, max_features=1000, stop_words='english')\n",
    "tfidf_matrix = tfidf_vectorizer.fit_transform(raw_documents_iterable)"
   ]
  },
  {
   "cell_type": "code",
   "execution_count": 96,
   "metadata": {},
   "outputs": [],
   "source": [
    "lsa = TruncatedSVD(n_components=2)\n",
    "lsa_matrix = lsa.fit_transform(tfidf_matrix)"
   ]
  },
  {
   "cell_type": "code",
   "execution_count": 97,
   "metadata": {},
   "outputs": [
    {
     "name": "stderr",
     "output_type": "stream",
     "text": [
      "c:\\Users\\alenk\\miniconda3\\envs\\tf\\lib\\site-packages\\sklearn\\cluster\\_kmeans.py:1334: UserWarning: KMeans is known to have a memory leak on Windows with MKL, when there are less chunks than available threads. You can avoid it by setting the environment variable OMP_NUM_THREADS=1.\n",
      "  warnings.warn(\n"
     ]
    },
    {
     "data": {
      "text/html": [
       "<style>#sk-container-id-1 {color: black;background-color: white;}#sk-container-id-1 pre{padding: 0;}#sk-container-id-1 div.sk-toggleable {background-color: white;}#sk-container-id-1 label.sk-toggleable__label {cursor: pointer;display: block;width: 100%;margin-bottom: 0;padding: 0.3em;box-sizing: border-box;text-align: center;}#sk-container-id-1 label.sk-toggleable__label-arrow:before {content: \"▸\";float: left;margin-right: 0.25em;color: #696969;}#sk-container-id-1 label.sk-toggleable__label-arrow:hover:before {color: black;}#sk-container-id-1 div.sk-estimator:hover label.sk-toggleable__label-arrow:before {color: black;}#sk-container-id-1 div.sk-toggleable__content {max-height: 0;max-width: 0;overflow: hidden;text-align: left;background-color: #f0f8ff;}#sk-container-id-1 div.sk-toggleable__content pre {margin: 0.2em;color: black;border-radius: 0.25em;background-color: #f0f8ff;}#sk-container-id-1 input.sk-toggleable__control:checked~div.sk-toggleable__content {max-height: 200px;max-width: 100%;overflow: auto;}#sk-container-id-1 input.sk-toggleable__control:checked~label.sk-toggleable__label-arrow:before {content: \"▾\";}#sk-container-id-1 div.sk-estimator input.sk-toggleable__control:checked~label.sk-toggleable__label {background-color: #d4ebff;}#sk-container-id-1 div.sk-label input.sk-toggleable__control:checked~label.sk-toggleable__label {background-color: #d4ebff;}#sk-container-id-1 input.sk-hidden--visually {border: 0;clip: rect(1px 1px 1px 1px);clip: rect(1px, 1px, 1px, 1px);height: 1px;margin: -1px;overflow: hidden;padding: 0;position: absolute;width: 1px;}#sk-container-id-1 div.sk-estimator {font-family: monospace;background-color: #f0f8ff;border: 1px dotted black;border-radius: 0.25em;box-sizing: border-box;margin-bottom: 0.5em;}#sk-container-id-1 div.sk-estimator:hover {background-color: #d4ebff;}#sk-container-id-1 div.sk-parallel-item::after {content: \"\";width: 100%;border-bottom: 1px solid gray;flex-grow: 1;}#sk-container-id-1 div.sk-label:hover label.sk-toggleable__label {background-color: #d4ebff;}#sk-container-id-1 div.sk-serial::before {content: \"\";position: absolute;border-left: 1px solid gray;box-sizing: border-box;top: 0;bottom: 0;left: 50%;z-index: 0;}#sk-container-id-1 div.sk-serial {display: flex;flex-direction: column;align-items: center;background-color: white;padding-right: 0.2em;padding-left: 0.2em;position: relative;}#sk-container-id-1 div.sk-item {position: relative;z-index: 1;}#sk-container-id-1 div.sk-parallel {display: flex;align-items: stretch;justify-content: center;background-color: white;position: relative;}#sk-container-id-1 div.sk-item::before, #sk-container-id-1 div.sk-parallel-item::before {content: \"\";position: absolute;border-left: 1px solid gray;box-sizing: border-box;top: 0;bottom: 0;left: 50%;z-index: -1;}#sk-container-id-1 div.sk-parallel-item {display: flex;flex-direction: column;z-index: 1;position: relative;background-color: white;}#sk-container-id-1 div.sk-parallel-item:first-child::after {align-self: flex-end;width: 50%;}#sk-container-id-1 div.sk-parallel-item:last-child::after {align-self: flex-start;width: 50%;}#sk-container-id-1 div.sk-parallel-item:only-child::after {width: 0;}#sk-container-id-1 div.sk-dashed-wrapped {border: 1px dashed gray;margin: 0 0.4em 0.5em 0.4em;box-sizing: border-box;padding-bottom: 0.4em;background-color: white;}#sk-container-id-1 div.sk-label label {font-family: monospace;font-weight: bold;display: inline-block;line-height: 1.2em;}#sk-container-id-1 div.sk-label-container {text-align: center;}#sk-container-id-1 div.sk-container {/* jupyter's `normalize.less` sets `[hidden] { display: none; }` but bootstrap.min.css set `[hidden] { display: none !important; }` so we also need the `!important` here to be able to override the default hidden behavior on the sphinx rendered scikit-learn.org. See: https://github.com/scikit-learn/scikit-learn/issues/21755 */display: inline-block !important;position: relative;}#sk-container-id-1 div.sk-text-repr-fallback {display: none;}</style><div id=\"sk-container-id-1\" class=\"sk-top-container\"><div class=\"sk-text-repr-fallback\"><pre>KMeans(n_clusters=10, random_state=42)</pre><b>In a Jupyter environment, please rerun this cell to show the HTML representation or trust the notebook. <br />On GitHub, the HTML representation is unable to render, please try loading this page with nbviewer.org.</b></div><div class=\"sk-container\" hidden><div class=\"sk-item\"><div class=\"sk-estimator sk-toggleable\"><input class=\"sk-toggleable__control sk-hidden--visually\" id=\"sk-estimator-id-1\" type=\"checkbox\" checked><label for=\"sk-estimator-id-1\" class=\"sk-toggleable__label sk-toggleable__label-arrow\">KMeans</label><div class=\"sk-toggleable__content\"><pre>KMeans(n_clusters=10, random_state=42)</pre></div></div></div></div></div>"
      ],
      "text/plain": [
       "KMeans(n_clusters=10, random_state=42)"
      ]
     },
     "execution_count": 97,
     "metadata": {},
     "output_type": "execute_result"
    }
   ],
   "source": [
    "k = 10\n",
    "kmeans = KMeans(n_clusters=k, random_state=42)\n",
    "kmeans.fit(lsa_matrix)"
   ]
  },
  {
   "cell_type": "code",
   "execution_count": 98,
   "metadata": {},
   "outputs": [
    {
     "data": {
      "image/png": "[encoded data removed]",
      "text/plain": [
       "<Figure size 1000x800 with 1 Axes>"
      ]
     },
     "metadata": {},
     "output_type": "display_data"
    }
   ],
   "source": [
    "labels = kmeans.labels_\n",
    "cluster_centers = kmeans.cluster_centers_\n",
    "\n",
    "plt.figure(figsize=(10, 8))\n",
    "plt.scatter(lsa_matrix[:, 0], lsa_matrix[:, 1], c=labels, cmap='viridis')\n",
    "plt.scatter(cluster_centers[:, 0], cluster_centers[:, 1,], s=200, c='red')\n",
    "plt.title(\"Text Clustering with K-Means\")\n",
    "plt.show()"
   ]
  }
 ],
 "metadata": {
  "kernelspec": {
   "display_name": "local-venv",
   "language": "python",
   "name": "local-venv"
  },
  "language_info": {
   "codemirror_mode": {
    "name": "ipython",
    "version": 3
   },
   "file_extension": ".py",
   "mimetype": "text/x-python",
   "name": "python",
   "nbconvert_exporter": "python",
   "pygments_lexer": "ipython3",
   "version": "3.9.15"
  }
 },
 "nbformat": 4,
 "nbformat_minor": 2
}
