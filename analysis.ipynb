{
 "cells": [
  {
   "cell_type": "code",
   "execution_count": 1,
   "metadata": {},
   "outputs": [
    {
     "name": "stdout",
     "output_type": "stream",
     "text": [
      "Requirement already satisfied: PyGithub in c:\\users\\alenk\\miniconda3\\envs\\tf\\lib\\site-packages (2.1.1)\n",
      "Requirement already satisfied: Deprecated in c:\\users\\alenk\\miniconda3\\envs\\tf\\lib\\site-packages (from PyGithub) (1.2.14)\n",
      "Requirement already satisfied: pynacl>=1.4.0 in c:\\users\\alenk\\miniconda3\\envs\\tf\\lib\\site-packages (from PyGithub) (1.5.0)\n",
      "Requirement already satisfied: pyjwt[crypto]>=2.4.0 in c:\\users\\alenk\\miniconda3\\envs\\tf\\lib\\site-packages (from PyGithub) (2.4.0)\n",
      "Requirement already satisfied: requests>=2.14.0 in c:\\users\\alenk\\miniconda3\\envs\\tf\\lib\\site-packages (from PyGithub) (2.28.1)\n",
      "Requirement already satisfied: typing-extensions>=4.0.0 in c:\\users\\alenk\\miniconda3\\envs\\tf\\lib\\site-packages (from PyGithub) (4.3.0)\n",
      "Requirement already satisfied: urllib3>=1.26.0 in c:\\users\\alenk\\miniconda3\\envs\\tf\\lib\\site-packages (from PyGithub) (1.26.12)\n",
      "Requirement already satisfied: python-dateutil in c:\\users\\alenk\\miniconda3\\envs\\tf\\lib\\site-packages (from PyGithub) (2.8.2)\n",
      "Requirement already satisfied: cryptography>=3.3.1 in c:\\users\\alenk\\miniconda3\\envs\\tf\\lib\\site-packages (from pyjwt[crypto]>=2.4.0->PyGithub) (38.0.1)\n",
      "Requirement already satisfied: cffi>=1.4.1 in c:\\users\\alenk\\miniconda3\\envs\\tf\\lib\\site-packages (from pynacl>=1.4.0->PyGithub) (1.15.1)\n",
      "Requirement already satisfied: certifi>=2017.4.17 in c:\\users\\alenk\\miniconda3\\envs\\tf\\lib\\site-packages (from requests>=2.14.0->PyGithub) (2022.9.24)\n",
      "Requirement already satisfied: charset-normalizer<3,>=2 in c:\\users\\alenk\\miniconda3\\envs\\tf\\lib\\site-packages (from requests>=2.14.0->PyGithub) (2.0.4)\n",
      "Requirement already satisfied: idna<4,>=2.5 in c:\\users\\alenk\\miniconda3\\envs\\tf\\lib\\site-packages (from requests>=2.14.0->PyGithub) (3.4)\n",
      "Requirement already satisfied: wrapt<2,>=1.10 in c:\\users\\alenk\\miniconda3\\envs\\tf\\lib\\site-packages (from Deprecated->PyGithub) (1.14.1)\n",
      "Requirement already satisfied: six>=1.5 in c:\\users\\alenk\\miniconda3\\envs\\tf\\lib\\site-packages (from python-dateutil->PyGithub) (1.16.0)\n",
      "Requirement already satisfied: pycparser in c:\\users\\alenk\\miniconda3\\envs\\tf\\lib\\site-packages (from cffi>=1.4.1->pynacl>=1.4.0->PyGithub) (2.21)\n"
     ]
    }
   ],
   "source": [
    "!pip install PyGithub"
   ]
  },
  {
   "cell_type": "code",
   "execution_count": 2,
   "metadata": {},
   "outputs": [],
   "source": [
    "from github import Github\n",
    "from github import Auth\n",
    "\n",
    "from login import login #create a login.py where to store your token"
   ]
  },
  {
   "cell_type": "code",
   "execution_count": 3,
   "metadata": {},
   "outputs": [
    {
     "data": {
      "text/plain": [
       "'alenkaja00'"
      ]
     },
     "execution_count": 3,
     "metadata": {},
     "output_type": "execute_result"
    }
   ],
   "source": [
    "auth = Auth.Token(login.token)\n",
    "g = Github(auth=auth)\n",
    "g.get_user().login"
   ]
  },
  {
   "cell_type": "code",
   "execution_count": 4,
   "metadata": {},
   "outputs": [],
   "source": [
    "systems = {\n",
    "    'Alluxio': 'Alluxio/alluxio',\n",
    "    'Antlr4': 'antlr/antlr4',\n",
    "    'Arduino': 'arduino/Arduino',\n",
    "    'Bazel': 'bazelbuild/bazel',\n",
    "    'Bisq': 'bisq-network/bisq',\n",
    "    'Buck': 'facebook/buck',\n",
    "    'CoreNLP': 'stanfordnlp/CoreNLP',\n",
    "    'Dbeaver': 'dbeaver/dbeaver',\n",
    "    'Dropwizard': 'dropwizard/dropwizard',\n",
    "    'Druid': 'alibaba/druid',\n",
    "    'Eclipse JDT Core': 'eclipse/eclipse.jdt.core',\n",
    "    'Eclipse PDE UI ': 'eclipse/eclipse.pde.ui',\n",
    "    'Elasticsearch ':'elastic/elasticsearch',\n",
    "    'Equinox Framework': 'eclipse/rt.equinox.framework',\n",
    "    'FrameworkBenchmarks': 'TechEmpower/FrameworkBenchmarks',\n",
    "    'Gocd': 'gocd/gocd',\n",
    "    'Graylog': 'Graylog2/graylog2-server',\n",
    "    'Guava': 'google/guava',\n",
    "    'Hibernate Orm': 'hibernate/hibernate-orm',\n",
    "    'J2ObjC': 'google/j2objc',\n",
    "    'Jabref': 'JabRef/jabref',\n",
    "    'Jenkins': 'jenkinsci/jenkins',\n",
    "    'Jitsi': 'jitsi/jitsi',\n",
    "    'JMeter': 'apache/jmeter',\n",
    "    'JUnit 5': 'junit-team/junit5',\n",
    "    'K-9 Mail': 'k9mail/k-9',\n",
    "    'Kafka': 'apache/kafka',\n",
    "    'LanguageTool': 'languagetool-org/languagetool',\n",
    "    'Lucene': 'apache/lucene-solr',\n",
    "    'MinecraftForge': 'MinecraftForge/MinecraftForge',\n",
    "    'Neo4j': 'neo4j/neo4j',\n",
    "    'Netty': 'netty/netty',\n",
    "    'OpenRefine': 'OpenRefine/OpenRefine',\n",
    "    'OrientDB': 'orientechnologies/orientdb',\n",
    "    'Pentaho Kettle': 'pentaho/pentaho-kettle',\n",
    "    'Pentaho Platform': 'pentaho/pentaho-platform',\n",
    "    'Pinpoint': 'pinpoint-apm/pinpoint',\n",
    "    'PMD': 'pmd/pmd',\n",
    "    'Realm Java': 'realm/realm-java',\n",
    "    'RxJava': 'ReactiveX/RxJava',\n",
    "    'Spring Boot': 'spring-projects/spring-boot',\n",
    "    'Spring Framework': 'spring-projects/spring-framework',\n",
    "    'Spring Security': 'spring-projects/spring-security',\n",
    "    'Tomcat': 'apache/tomcat',\n",
    "    'Tutorials': 'eugenp/tutorials'\n",
    "}"
   ]
  },
  {
   "cell_type": "code",
   "execution_count": 5,
   "metadata": {},
   "outputs": [],
   "source": [
    "repos_dict = {}\n",
    "\n",
    "for key, value in systems.items():\n",
    "    values = value.split('/')\n",
    "    repos_dict[values[0]] = values[1]"
   ]
  },
  {
   "cell_type": "code",
   "execution_count": 6,
   "metadata": {},
   "outputs": [],
   "source": [
    "headers = {\n",
    "    \"Accept\": \"application/vnd.github+json\",\n",
    "    \"Authorization\": f\"Bearer {login.token}\",\n",
    "}"
   ]
  },
  {
   "cell_type": "code",
   "execution_count": 7,
   "metadata": {},
   "outputs": [
    {
     "name": "stdout",
     "output_type": "stream",
     "text": [
      "Error: 404\n",
      "https://api.github.com/repos/eclipse/rt.equinox.framework/topics\n"
     ]
    }
   ],
   "source": [
    "import requests\n",
    "\n",
    "topics = {}\n",
    "\n",
    "for key, value in repos_dict.items():\n",
    "    url = f\"https://api.github.com/repos/{key}/{value}/topics\"\n",
    "    response = requests.get(url, headers=headers)\n",
    "\n",
    "    if response.status_code == 200:\n",
    "        topics[key] = response.json().values()\n",
    "    else:\n",
    "        print(f\"Error: {response.status_code}\")\n",
    "        print(url)"
   ]
  },
  {
   "cell_type": "code",
   "execution_count": 8,
   "metadata": {},
   "outputs": [
    {
     "data": {
      "text/plain": [
       "{'Alluxio': dict_values([['alluxio', 'memory-speed', 'hadoop', 'spark', 'presto', 'tensorflow', 'data-analysis', 'data-orchestration', 'virtual-distributed-filesystem']]),\n",
       " 'antlr': dict_values([['parsing', 'parser-generator', 'antlr', 'antlr4', 'java', 'grammar', 'python', 'parse', 'language-recognition', 'javascript', 'csharp', 'swift', 'cpp', 'golang', 'php', 'dart']]),\n",
       " 'arduino': dict_values([['arduino', 'ide']]),\n",
       " 'bazelbuild': dict_values([['bazel', 'build', 'test', 'fast', 'correct', 'scalable', 'multi-language', 'build-system']]),\n",
       " 'bisq-network': dict_values([['bisq', 'p2p', 'bitcoin', 'exchange', 'java']]),\n",
       " 'facebook': dict_values([['build-tool', 'java', 'python', 'android', 'ios', 'buck']]),\n",
       " 'stanfordnlp': dict_values([['natural-language-processing', 'nlp', 'nlp-parsing', 'named-entity-recognition', 'stanford-nlp']]),\n",
       " 'dbeaver': dict_values([['sql', 'database', 'dbeaver', 'gui', 'mysql', 'postgresql', 'db2', 'sqlite', 'erd', 'java', 'oracle', 'nosql', 'sqlserver', 'redshift', 'tycho']]),\n",
       " 'dropwizard': dict_values([['dropwizard', 'java', 'web-framework', 'rest', 'hibernate', 'jersey2', 'jetty', 'jax-rs', 'jdbi', 'jersey-framework', 'restful-webservices']]),\n",
       " 'alibaba': dict_values([[]]),\n",
       " 'elastic': dict_values([['elasticsearch', 'java', 'search-engine']]),\n",
       " 'TechEmpower': dict_values([['frameworkbenchmarks', 'benchmark', 'suite', 'framework', 'performance']]),\n",
       " 'gocd': dict_values([['ci', 'cd', 'gocd', 'ci-cd', 'continuous-integration', 'continuous-delivery-server', 'continuous-delivery', 'infrastructure-as-code', 'continuous-deployment', 'continuous-testing']]),\n",
       " 'Graylog2': dict_values([['log-analysis', 'log-collector', 'log-viewer', 'logging', 'logging-server', 'siem', 'secure-logging', 'security', 'gelf', 'syslog', 'graylog', 'kafka', 'amqp', 'log-management', 'hacktoberfest']]),\n",
       " 'google': dict_values([[]]),\n",
       " 'hibernate': dict_values([['hibernate', 'java', 'orm', 'jpa', 'jdbc', 'database', 'gradle', 'unitofwork', 'envers', 'java8', 'java8-times']]),\n",
       " 'JabRef': dict_values([['jabref', 'bibtex', 'java', 'latex', 'biblatex', 'bibliography', 'academia', 'reference-manager', 'research-tool', 'academic-publications', 'javafx-application', 'javafx-desktop-apps', 'javafx', 'hacktoberfest', 'javafx-gui']]),\n",
       " 'jenkinsci': dict_values([['continuous-integration', 'continuous-delivery', 'continuous-deployment', 'java', 'groovy', 'jenkins', 'pipelines-as-code', 'devops', 'cicd', 'hacktoberfest']]),\n",
       " 'jitsi': dict_values([['jitsi', 'icq', 'jabber', 'java', 'xmpp', 'instant-messaging', 'xmpp-client', 'audio', 'video', 'irc', 'sip', 'chat']]),\n",
       " 'apache': dict_values([['javaee', 'http', 'java', 'network-server', 'tomcat']]),\n",
       " 'junit-team': dict_values([['java', 'test-framework', 'junit', 'junit-vintage', 'junit-jupiter', 'junit-platform', 'kotlin', 'kotlin-testing']]),\n",
       " 'k9mail': dict_values([['android', 'email', 'communication']]),\n",
       " 'languagetool-org': dict_values([['grammar', 'natural-language', 'natural-language-processing', 'style-checker', 'proofreading', 'spellcheck']]),\n",
       " 'MinecraftForge': dict_values([['java', 'forge', 'minecraft', 'mod']]),\n",
       " 'neo4j': dict_values([['cypher', 'graphdb', 'database', 'nosql', 'graph', 'graph-database', 'neo4j']]),\n",
       " 'netty': dict_values([[]]),\n",
       " 'OpenRefine': dict_values([['datacleansing', 'data-analysis', 'java', 'opendata', 'wikidata', 'journalism', 'data-science', 'datajournalism', 'datacleaning', 'datamining', 'reconciliation', 'data-wrangling']]),\n",
       " 'orientechnologies': dict_values([['orientdb', 'graph-database', 'document-database', 'dbms', 'nosql', 'graph-store', 'multi-master', 'multi-model-dbms', 'database', 'performance', 'fast', 'sql']]),\n",
       " 'pentaho': dict_values([[]]),\n",
       " 'pinpoint-apm': dict_values([['apm', 'monitoring', 'performance', 'agent', 'distributed-tracing', 'tracing']]),\n",
       " 'pmd': dict_values([['code-analysis', 'code-quality', 'static-analysis', 'static-code-analysis', 'linter', 'java', 'apex', 'plsql', 'swift']]),\n",
       " 'realm': dict_values([['java', 'android', 'database', 'mobile', 'realtime-database', 'mobile-database', 'nosql-database']]),\n",
       " 'ReactiveX': dict_values([['java', 'rxjava', 'flow', 'reactive-streams']]),\n",
       " 'spring-projects': dict_values([['java', 'security', 'spring', 'spring-framework', 'framework']]),\n",
       " 'eugenp': dict_values([[]])}"
      ]
     },
     "execution_count": 8,
     "metadata": {},
     "output_type": "execute_result"
    }
   ],
   "source": [
    "topics"
   ]
  },
  {
   "cell_type": "code",
   "execution_count": null,
   "metadata": {},
   "outputs": [],
   "source": []
  }
 ],
 "metadata": {
  "kernelspec": {
   "display_name": "local-venv",
   "language": "python",
   "name": "local-venv"
  },
  "language_info": {
   "codemirror_mode": {
    "name": "ipython",
    "version": 3
   },
   "file_extension": ".py",
   "mimetype": "text/x-python",
   "name": "python",
   "nbconvert_exporter": "python",
   "pygments_lexer": "ipython3",
   "version": "3.9.15"
  }
 },
 "nbformat": 4,
 "nbformat_minor": 2
}
